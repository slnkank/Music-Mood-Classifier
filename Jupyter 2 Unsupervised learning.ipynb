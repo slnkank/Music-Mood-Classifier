{
 "cells": [
  {
   "cell_type": "markdown",
   "metadata": {},
   "source": [
    "## Music Mood Classification: Part 2 Supervised Learning "
   ]
  },
  {
   "cell_type": "code",
   "execution_count": 1,
   "metadata": {},
   "outputs": [],
   "source": [
    "# import packages\n",
    "import pandas as pd\n",
    "import numpy as np\n",
    "import matplotlib.pyplot as plt\n",
    "%matplotlib inline\n",
    "import seaborn as sns\n",
    "\n",
    "import warnings\n",
    "warnings.filterwarnings(action=\"ignore\", message=\"^internal gelsd\")"
   ]
  },
  {
   "cell_type": "code",
   "execution_count": 9,
   "metadata": {},
   "outputs": [],
   "source": [
    "# import csv \n",
    "df = pd.read_csv('/Users/ankitsolanki/Desktop/Brainstation/Capstone/tracks_moods.csv')\n",
    "num_moods = pd.read_csv('/Users/ankitsolanki/Desktop/Brainstation/Capstone/num_moods.csv')"
   ]
  },
  {
   "cell_type": "code",
   "execution_count": 4,
   "metadata": {},
   "outputs": [
    {
     "data": {
      "text/html": [
       "<div>\n",
       "<style scoped>\n",
       "    .dataframe tbody tr th:only-of-type {\n",
       "        vertical-align: middle;\n",
       "    }\n",
       "\n",
       "    .dataframe tbody tr th {\n",
       "        vertical-align: top;\n",
       "    }\n",
       "\n",
       "    .dataframe thead th {\n",
       "        text-align: right;\n",
       "    }\n",
       "</style>\n",
       "<table border=\"1\" class=\"dataframe\">\n",
       "  <thead>\n",
       "    <tr style=\"text-align: right;\">\n",
       "      <th></th>\n",
       "      <th>playList</th>\n",
       "      <th>artist</th>\n",
       "      <th>explicit</th>\n",
       "      <th>id</th>\n",
       "      <th>popularity</th>\n",
       "      <th>title</th>\n",
       "      <th>energy</th>\n",
       "      <th>liveness</th>\n",
       "      <th>tempo</th>\n",
       "      <th>speechiness</th>\n",
       "      <th>acousticness</th>\n",
       "      <th>instrumentalness</th>\n",
       "      <th>time_signature</th>\n",
       "      <th>danceability</th>\n",
       "      <th>key</th>\n",
       "      <th>duration_ms</th>\n",
       "      <th>loudness</th>\n",
       "      <th>valence</th>\n",
       "      <th>mode</th>\n",
       "      <th>moods</th>\n",
       "    </tr>\n",
       "  </thead>\n",
       "  <tbody>\n",
       "    <tr>\n",
       "      <th>0</th>\n",
       "      <td>3</td>\n",
       "      <td>R.I.O., U-Jean</td>\n",
       "      <td>0</td>\n",
       "      <td>79MkbP0nYwH5LG9fzwuCjZ</td>\n",
       "      <td>29</td>\n",
       "      <td>Animal - Video Edit</td>\n",
       "      <td>0.865</td>\n",
       "      <td>0.4530</td>\n",
       "      <td>128.037</td>\n",
       "      <td>0.0412</td>\n",
       "      <td>0.00929</td>\n",
       "      <td>0.000000</td>\n",
       "      <td>4</td>\n",
       "      <td>0.620</td>\n",
       "      <td>0</td>\n",
       "      <td>212467</td>\n",
       "      <td>0.912892</td>\n",
       "      <td>0.555</td>\n",
       "      <td>0</td>\n",
       "      <td>cheerful</td>\n",
       "    </tr>\n",
       "    <tr>\n",
       "      <th>1</th>\n",
       "      <td>3</td>\n",
       "      <td>Mike Candys, Jenson Vaughan</td>\n",
       "      <td>0</td>\n",
       "      <td>3nay4trOaT3jnPCreU5BIO</td>\n",
       "      <td>5</td>\n",
       "      <td>Bring Back The Love - Radio Edit</td>\n",
       "      <td>0.816</td>\n",
       "      <td>0.2230</td>\n",
       "      <td>127.982</td>\n",
       "      <td>0.0616</td>\n",
       "      <td>0.01090</td>\n",
       "      <td>0.000058</td>\n",
       "      <td>4</td>\n",
       "      <td>0.606</td>\n",
       "      <td>5</td>\n",
       "      <td>196293</td>\n",
       "      <td>0.927914</td>\n",
       "      <td>0.476</td>\n",
       "      <td>1</td>\n",
       "      <td>cheerful</td>\n",
       "    </tr>\n",
       "    <tr>\n",
       "      <th>2</th>\n",
       "      <td>3</td>\n",
       "      <td>Angus &amp; Julia Stone</td>\n",
       "      <td>0</td>\n",
       "      <td>2fbXJ0VpxhW7j0qcg1DnoZ</td>\n",
       "      <td>61</td>\n",
       "      <td>Big Jet Plane</td>\n",
       "      <td>0.376</td>\n",
       "      <td>0.0908</td>\n",
       "      <td>109.944</td>\n",
       "      <td>0.0267</td>\n",
       "      <td>0.25200</td>\n",
       "      <td>0.008610</td>\n",
       "      <td>4</td>\n",
       "      <td>0.766</td>\n",
       "      <td>10</td>\n",
       "      <td>239120</td>\n",
       "      <td>0.848102</td>\n",
       "      <td>0.257</td>\n",
       "      <td>0</td>\n",
       "      <td>chill</td>\n",
       "    </tr>\n",
       "    <tr>\n",
       "      <th>3</th>\n",
       "      <td>3</td>\n",
       "      <td>MGMT</td>\n",
       "      <td>0</td>\n",
       "      <td>3FtYbEfBqAlGO46NUDQSAt</td>\n",
       "      <td>78</td>\n",
       "      <td>Electric Feel</td>\n",
       "      <td>0.807</td>\n",
       "      <td>0.3480</td>\n",
       "      <td>103.038</td>\n",
       "      <td>0.0350</td>\n",
       "      <td>0.07140</td>\n",
       "      <td>0.280000</td>\n",
       "      <td>3</td>\n",
       "      <td>0.763</td>\n",
       "      <td>1</td>\n",
       "      <td>229640</td>\n",
       "      <td>0.929119</td>\n",
       "      <td>0.559</td>\n",
       "      <td>1</td>\n",
       "      <td>uplifting</td>\n",
       "    </tr>\n",
       "    <tr>\n",
       "      <th>4</th>\n",
       "      <td>3</td>\n",
       "      <td>Britney Spears</td>\n",
       "      <td>0</td>\n",
       "      <td>5cCAZS9VhLGEDV4NCfieeg</td>\n",
       "      <td>65</td>\n",
       "      <td>I Wanna Go</td>\n",
       "      <td>0.546</td>\n",
       "      <td>0.3320</td>\n",
       "      <td>130.002</td>\n",
       "      <td>0.0414</td>\n",
       "      <td>0.00379</td>\n",
       "      <td>0.000004</td>\n",
       "      <td>4</td>\n",
       "      <td>0.696</td>\n",
       "      <td>5</td>\n",
       "      <td>210267</td>\n",
       "      <td>0.882304</td>\n",
       "      <td>0.787</td>\n",
       "      <td>1</td>\n",
       "      <td>uplifting</td>\n",
       "    </tr>\n",
       "  </tbody>\n",
       "</table>\n",
       "</div>"
      ],
      "text/plain": [
       "   playList                       artist  explicit                      id  \\\n",
       "0         3               R.I.O., U-Jean         0  79MkbP0nYwH5LG9fzwuCjZ   \n",
       "1         3  Mike Candys, Jenson Vaughan         0  3nay4trOaT3jnPCreU5BIO   \n",
       "2         3          Angus & Julia Stone         0  2fbXJ0VpxhW7j0qcg1DnoZ   \n",
       "3         3                         MGMT         0  3FtYbEfBqAlGO46NUDQSAt   \n",
       "4         3               Britney Spears         0  5cCAZS9VhLGEDV4NCfieeg   \n",
       "\n",
       "   popularity                             title  energy  liveness    tempo  \\\n",
       "0          29               Animal - Video Edit   0.865    0.4530  128.037   \n",
       "1           5  Bring Back The Love - Radio Edit   0.816    0.2230  127.982   \n",
       "2          61                     Big Jet Plane   0.376    0.0908  109.944   \n",
       "3          78                     Electric Feel   0.807    0.3480  103.038   \n",
       "4          65                        I Wanna Go   0.546    0.3320  130.002   \n",
       "\n",
       "   speechiness  acousticness  instrumentalness  time_signature  danceability  \\\n",
       "0       0.0412       0.00929          0.000000               4         0.620   \n",
       "1       0.0616       0.01090          0.000058               4         0.606   \n",
       "2       0.0267       0.25200          0.008610               4         0.766   \n",
       "3       0.0350       0.07140          0.280000               3         0.763   \n",
       "4       0.0414       0.00379          0.000004               4         0.696   \n",
       "\n",
       "   key  duration_ms  loudness  valence  mode      moods  \n",
       "0    0       212467  0.912892    0.555     0   cheerful  \n",
       "1    5       196293  0.927914    0.476     1   cheerful  \n",
       "2   10       239120  0.848102    0.257     0      chill  \n",
       "3    1       229640  0.929119    0.559     1  uplifting  \n",
       "4    5       210267  0.882304    0.787     1  uplifting  "
      ]
     },
     "execution_count": 4,
     "metadata": {},
     "output_type": "execute_result"
    }
   ],
   "source": [
    "df.head()"
   ]
  },
  {
   "cell_type": "code",
   "execution_count": 5,
   "metadata": {},
   "outputs": [
    {
     "data": {
      "text/plain": [
       "uplifting     10872\n",
       "cheerful       8295\n",
       "chill          7568\n",
       "melancholy     4798\n",
       "Name: moods, dtype: int64"
      ]
     },
     "execution_count": 5,
     "metadata": {},
     "output_type": "execute_result"
    }
   ],
   "source": [
    "# Check mood classes\n",
    "df['moods'].value_counts()\n"
   ]
  },
  {
   "cell_type": "code",
   "execution_count": 81,
   "metadata": {},
   "outputs": [],
   "source": [
    "X_df = df.drop(['moods'],axis=1)\n",
    "y_df = df['moods']"
   ]
  },
  {
   "cell_type": "markdown",
   "metadata": {},
   "source": [
    "For multi-class classfication I will be using the numerical dataframe that I have created earlier in Part 1."
   ]
  },
  {
   "cell_type": "code",
   "execution_count": 10,
   "metadata": {},
   "outputs": [
    {
     "data": {
      "text/html": [
       "<div>\n",
       "<style scoped>\n",
       "    .dataframe tbody tr th:only-of-type {\n",
       "        vertical-align: middle;\n",
       "    }\n",
       "\n",
       "    .dataframe tbody tr th {\n",
       "        vertical-align: top;\n",
       "    }\n",
       "\n",
       "    .dataframe thead th {\n",
       "        text-align: right;\n",
       "    }\n",
       "</style>\n",
       "<table border=\"1\" class=\"dataframe\">\n",
       "  <thead>\n",
       "    <tr style=\"text-align: right;\">\n",
       "      <th></th>\n",
       "      <th>playList</th>\n",
       "      <th>explicit</th>\n",
       "      <th>popularity</th>\n",
       "      <th>energy</th>\n",
       "      <th>liveness</th>\n",
       "      <th>tempo</th>\n",
       "      <th>speechiness</th>\n",
       "      <th>acousticness</th>\n",
       "      <th>instrumentalness</th>\n",
       "      <th>time_signature</th>\n",
       "      <th>danceability</th>\n",
       "      <th>key</th>\n",
       "      <th>duration_ms</th>\n",
       "      <th>loudness</th>\n",
       "      <th>valence</th>\n",
       "      <th>mode</th>\n",
       "      <th>moods</th>\n",
       "    </tr>\n",
       "  </thead>\n",
       "  <tbody>\n",
       "    <tr>\n",
       "      <th>0</th>\n",
       "      <td>0.6</td>\n",
       "      <td>0</td>\n",
       "      <td>0.29</td>\n",
       "      <td>0.865</td>\n",
       "      <td>0.4530</td>\n",
       "      <td>0.533568</td>\n",
       "      <td>0.0412</td>\n",
       "      <td>0.00929</td>\n",
       "      <td>0.000000</td>\n",
       "      <td>0.8</td>\n",
       "      <td>0.620</td>\n",
       "      <td>0.000000</td>\n",
       "      <td>0.104698</td>\n",
       "      <td>0.912892</td>\n",
       "      <td>0.555</td>\n",
       "      <td>0</td>\n",
       "      <td>0</td>\n",
       "    </tr>\n",
       "    <tr>\n",
       "      <th>1</th>\n",
       "      <td>0.6</td>\n",
       "      <td>0</td>\n",
       "      <td>0.05</td>\n",
       "      <td>0.816</td>\n",
       "      <td>0.2230</td>\n",
       "      <td>0.533338</td>\n",
       "      <td>0.0616</td>\n",
       "      <td>0.01090</td>\n",
       "      <td>0.000058</td>\n",
       "      <td>0.8</td>\n",
       "      <td>0.606</td>\n",
       "      <td>0.454545</td>\n",
       "      <td>0.096446</td>\n",
       "      <td>0.927914</td>\n",
       "      <td>0.476</td>\n",
       "      <td>1</td>\n",
       "      <td>0</td>\n",
       "    </tr>\n",
       "    <tr>\n",
       "      <th>2</th>\n",
       "      <td>0.6</td>\n",
       "      <td>0</td>\n",
       "      <td>0.61</td>\n",
       "      <td>0.376</td>\n",
       "      <td>0.0908</td>\n",
       "      <td>0.458169</td>\n",
       "      <td>0.0267</td>\n",
       "      <td>0.25200</td>\n",
       "      <td>0.008610</td>\n",
       "      <td>0.8</td>\n",
       "      <td>0.766</td>\n",
       "      <td>0.909091</td>\n",
       "      <td>0.118295</td>\n",
       "      <td>0.848102</td>\n",
       "      <td>0.257</td>\n",
       "      <td>0</td>\n",
       "      <td>2</td>\n",
       "    </tr>\n",
       "    <tr>\n",
       "      <th>3</th>\n",
       "      <td>0.6</td>\n",
       "      <td>0</td>\n",
       "      <td>0.78</td>\n",
       "      <td>0.807</td>\n",
       "      <td>0.3480</td>\n",
       "      <td>0.429389</td>\n",
       "      <td>0.0350</td>\n",
       "      <td>0.07140</td>\n",
       "      <td>0.280000</td>\n",
       "      <td>0.6</td>\n",
       "      <td>0.763</td>\n",
       "      <td>0.090909</td>\n",
       "      <td>0.113459</td>\n",
       "      <td>0.929119</td>\n",
       "      <td>0.559</td>\n",
       "      <td>1</td>\n",
       "      <td>1</td>\n",
       "    </tr>\n",
       "    <tr>\n",
       "      <th>4</th>\n",
       "      <td>0.6</td>\n",
       "      <td>0</td>\n",
       "      <td>0.65</td>\n",
       "      <td>0.546</td>\n",
       "      <td>0.3320</td>\n",
       "      <td>0.541756</td>\n",
       "      <td>0.0414</td>\n",
       "      <td>0.00379</td>\n",
       "      <td>0.000004</td>\n",
       "      <td>0.8</td>\n",
       "      <td>0.696</td>\n",
       "      <td>0.454545</td>\n",
       "      <td>0.103575</td>\n",
       "      <td>0.882304</td>\n",
       "      <td>0.787</td>\n",
       "      <td>1</td>\n",
       "      <td>1</td>\n",
       "    </tr>\n",
       "  </tbody>\n",
       "</table>\n",
       "</div>"
      ],
      "text/plain": [
       "   playList  explicit  popularity  energy  liveness     tempo  speechiness  \\\n",
       "0       0.6         0        0.29   0.865    0.4530  0.533568       0.0412   \n",
       "1       0.6         0        0.05   0.816    0.2230  0.533338       0.0616   \n",
       "2       0.6         0        0.61   0.376    0.0908  0.458169       0.0267   \n",
       "3       0.6         0        0.78   0.807    0.3480  0.429389       0.0350   \n",
       "4       0.6         0        0.65   0.546    0.3320  0.541756       0.0414   \n",
       "\n",
       "   acousticness  instrumentalness  time_signature  danceability       key  \\\n",
       "0       0.00929          0.000000             0.8         0.620  0.000000   \n",
       "1       0.01090          0.000058             0.8         0.606  0.454545   \n",
       "2       0.25200          0.008610             0.8         0.766  0.909091   \n",
       "3       0.07140          0.280000             0.6         0.763  0.090909   \n",
       "4       0.00379          0.000004             0.8         0.696  0.454545   \n",
       "\n",
       "   duration_ms  loudness  valence  mode  moods  \n",
       "0     0.104698  0.912892    0.555     0      0  \n",
       "1     0.096446  0.927914    0.476     1      0  \n",
       "2     0.118295  0.848102    0.257     0      2  \n",
       "3     0.113459  0.929119    0.559     1      1  \n",
       "4     0.103575  0.882304    0.787     1      1  "
      ]
     },
     "execution_count": 10,
     "metadata": {},
     "output_type": "execute_result"
    }
   ],
   "source": [
    "num_moods.head()"
   ]
  },
  {
   "cell_type": "markdown",
   "metadata": {},
   "source": [
    "Since the data is already scaled and normalised there is no need for firther processing."
   ]
  },
  {
   "cell_type": "markdown",
   "metadata": {},
   "source": [
    "## Modeling "
   ]
  },
  {
   "cell_type": "markdown",
   "metadata": {},
   "source": [
    "I will be using KNN, SVM and Random forest models to classify the moods."
   ]
  },
  {
   "cell_type": "code",
   "execution_count": 53,
   "metadata": {},
   "outputs": [],
   "source": [
    "# Set X and y\n",
    "X = num_moods.drop(['moods'],axis=1)\n",
    "y = num_moods['moods']"
   ]
  },
  {
   "cell_type": "code",
   "execution_count": 54,
   "metadata": {},
   "outputs": [],
   "source": [
    "# split the data into train , test and validation set  \n",
    "from sklearn.model_selection import train_test_split\n",
    "\n",
    "# Taking a chuck for our 20% test set\n",
    "X_remainder, X_test, y_remainder, y_test = train_test_split(X, y, test_size = 0.2,\n",
    "                     random_state=1)"
   ]
  },
  {
   "cell_type": "code",
   "execution_count": 55,
   "metadata": {},
   "outputs": [],
   "source": [
    "# Splitting the remainder in two chunks\n",
    "X_train, X_validation, y_train, y_validation = train_test_split(X_remainder, y_remainder, test_size = 0.3,\n",
    "                     random_state=1)"
   ]
  },
  {
   "cell_type": "markdown",
   "metadata": {},
   "source": [
    "Final proportions:\n",
    "\n",
    "- Test Set: 0.2\n",
    "\n",
    "- Validation Set: 0.8 * 0.3 = 0.24\n",
    "\n",
    "- Training Set: 0.8 * 0.7 = 0.56"
   ]
  },
  {
   "cell_type": "markdown",
   "metadata": {},
   "source": [
    "**K Nearest Neighbors**"
   ]
  },
  {
   "cell_type": "code",
   "execution_count": 17,
   "metadata": {},
   "outputs": [
    {
     "data": {
      "image/png": "[encoded data removed]",
      "text/plain": [
       "<Figure size 432x288 with 1 Axes>"
      ]
     },
     "metadata": {
      "needs_background": "light"
     },
     "output_type": "display_data"
    }
   ],
   "source": [
    "from sklearn.neighbors import KNeighborsClassifier\n",
    "\n",
    "k_values = list(range(1,60))\n",
    "train_scores = []\n",
    "val_scores = []\n",
    "\n",
    "\n",
    "for k in k_values:\n",
    "    \n",
    "    knn = KNeighborsClassifier(n_neighbors = k)\n",
    "    knn.fit(X_train, y_train)\n",
    "    \n",
    "    #score\n",
    "    train_scores.append(knn.score(X_train,y_train))\n",
    "    val_scores.append(knn.score(X_validation, y_validation))\n",
    "    \n",
    "\n",
    "\n",
    "\n",
    "\n",
    "plt.figure()\n",
    "plt.plot(k_values, train_scores, label='Train', c='blue')\n",
    "plt.plot(k_values, val_scores, label='Val', c='red')\n",
    "plt.legend()\n",
    "plt.show()"
   ]
  },
  {
   "cell_type": "markdown",
   "metadata": {},
   "source": [
    "I will take 16 n_neighbors. "
   ]
  },
  {
   "cell_type": "code",
   "execution_count": 56,
   "metadata": {},
   "outputs": [
    {
     "name": "stdout",
     "output_type": "stream",
     "text": [
      "KNN train score: 0.9205581542852612\n",
      "KNN test score: 0.9034406215316315\n"
     ]
    }
   ],
   "source": [
    "# refit KNN with k_value = 16\n",
    "final_knn = KNeighborsClassifier(n_neighbors=16)\n",
    "final_knn.fit(X_remainder, y_remainder)\n",
    "\n",
    "# test scores\n",
    "print(f'KNN train score: {final_knn.score(X_remainder,y_remainder)}')\n",
    "print(f'KNN test score: {final_knn.score(X_test,y_test)}')"
   ]
  },
  {
   "cell_type": "markdown",
   "metadata": {},
   "source": [
    "This is promising. Let's do a cross-validation as models can overfit the data sometimes. "
   ]
  },
  {
   "cell_type": "code",
   "execution_count": 57,
   "metadata": {},
   "outputs": [
    {
     "name": "stdout",
     "output_type": "stream",
     "text": [
      "[0.89813714 0.89098117 0.89236868 0.89494549 0.89078295]\n",
      "cv_scores mean:0.8934430867338621\n"
     ]
    }
   ],
   "source": [
    "# cross validation k folds\n",
    "from sklearn.model_selection import cross_val_score\n",
    "\n",
    "#instantiate \n",
    "knn = KNeighborsClassifier(n_neighbors=16)\n",
    "\n",
    "## 2. Fit model on 5 folds.\n",
    "# The variable \"scores\" will hold 5 accuracy scores, \n",
    "# each from a different train and validation split\n",
    "cv_scores = cross_val_score(knn, X_remainder, y_remainder, cv = 5)\n",
    "print(scores)\n",
    "print('cv_scores mean:{}'.format(np.mean(cv_scores)))"
   ]
  },
  {
   "cell_type": "code",
   "execution_count": 75,
   "metadata": {
    "scrolled": true
   },
   "outputs": [
    {
     "name": "stdout",
     "output_type": "stream",
     "text": [
      "              precision    recall  f1-score   support\n",
      "\n",
      "           0       0.85      0.90      0.87      1614\n",
      "           1       0.91      0.95      0.93      2126\n",
      "           2       0.86      0.83      0.85      1562\n",
      "           3       0.99      0.87      0.93      1005\n",
      "\n",
      "    accuracy                           0.89      6307\n",
      "   macro avg       0.90      0.89      0.89      6307\n",
      "weighted avg       0.90      0.89      0.89      6307\n",
      "\n",
      "---------------------------------------------------\n"
     ]
    }
   ],
   "source": [
    "from sklearn.metrics import classification_report, confusion_matrix \n",
    "knn.fit(X_test,y_test)\n",
    "# classification report for KNN\n",
    "predictions = knn.predict(X_test) \n",
    "print(classification_report(y_test, predictions)) \n",
    "print(\"---------------------------------------------------\")"
   ]
  },
  {
   "cell_type": "markdown",
   "metadata": {},
   "source": [
    "The f1 score is satisfactory but it will make more sense after comparison with other models."
   ]
  },
  {
   "cell_type": "markdown",
   "metadata": {},
   "source": [
    "**Support Vector Machines**"
   ]
  },
  {
   "cell_type": "code",
   "execution_count": 86,
   "metadata": {},
   "outputs": [],
   "source": [
    "# We split the data again in train and test\n",
    "X_train2, X_test2, y_train2, y_test2 = train_test_split(X, y, test_size = 0.3,random_state=101)"
   ]
  },
  {
   "cell_type": "code",
   "execution_count": 61,
   "metadata": {},
   "outputs": [
    {
     "name": "stdout",
     "output_type": "stream",
     "text": [
      "The TRAIN classification accuracy is: 0.940107824038418\n",
      "The TEST classification accuracy is: 0.9404862579281184\n"
     ]
    }
   ],
   "source": [
    "#import svc\n",
    "from sklearn.svm import LinearSVC\n",
    "\n",
    "SVM_model = LinearSVC()\n",
    "SVM_model.fit(X_train2, y_train2)\n",
    "\n",
    "print(f\"The TRAIN classification accuracy is: {SVM_model.score(X_train2,y_train2)}\")\n",
    "print(f\"The TEST classification accuracy is: {SVM_model.score(X_test2,y_test2)}\")"
   ]
  },
  {
   "cell_type": "markdown",
   "metadata": {},
   "source": [
    "I will do a gridseacrh for hyperparameter tuning. "
   ]
  },
  {
   "cell_type": "code",
   "execution_count": 39,
   "metadata": {},
   "outputs": [
    {
     "name": "stderr",
     "output_type": "stream",
     "text": [
      "/Users/ankitsolanki/opt/anaconda3/envs/musicmood/lib/python3.8/site-packages/sklearn/svm/_base.py:976: ConvergenceWarning: Liblinear failed to converge, increase the number of iterations.\n",
      "  warnings.warn(\"Liblinear failed to converge, increase \"\n",
      "/Users/ankitsolanki/opt/anaconda3/envs/musicmood/lib/python3.8/site-packages/sklearn/svm/_base.py:976: ConvergenceWarning: Liblinear failed to converge, increase the number of iterations.\n",
      "  warnings.warn(\"Liblinear failed to converge, increase \"\n",
      "/Users/ankitsolanki/opt/anaconda3/envs/musicmood/lib/python3.8/site-packages/sklearn/svm/_base.py:976: ConvergenceWarning: Liblinear failed to converge, increase the number of iterations.\n",
      "  warnings.warn(\"Liblinear failed to converge, increase \"\n",
      "/Users/ankitsolanki/opt/anaconda3/envs/musicmood/lib/python3.8/site-packages/sklearn/svm/_base.py:976: ConvergenceWarning: Liblinear failed to converge, increase the number of iterations.\n",
      "  warnings.warn(\"Liblinear failed to converge, increase \"\n",
      "/Users/ankitsolanki/opt/anaconda3/envs/musicmood/lib/python3.8/site-packages/sklearn/svm/_base.py:976: ConvergenceWarning: Liblinear failed to converge, increase the number of iterations.\n",
      "  warnings.warn(\"Liblinear failed to converge, increase \"\n",
      "/Users/ankitsolanki/opt/anaconda3/envs/musicmood/lib/python3.8/site-packages/sklearn/svm/_base.py:976: ConvergenceWarning: Liblinear failed to converge, increase the number of iterations.\n",
      "  warnings.warn(\"Liblinear failed to converge, increase \"\n",
      "/Users/ankitsolanki/opt/anaconda3/envs/musicmood/lib/python3.8/site-packages/sklearn/svm/_base.py:976: ConvergenceWarning: Liblinear failed to converge, increase the number of iterations.\n",
      "  warnings.warn(\"Liblinear failed to converge, increase \"\n",
      "/Users/ankitsolanki/opt/anaconda3/envs/musicmood/lib/python3.8/site-packages/sklearn/svm/_base.py:976: ConvergenceWarning: Liblinear failed to converge, increase the number of iterations.\n",
      "  warnings.warn(\"Liblinear failed to converge, increase \"\n",
      "/Users/ankitsolanki/opt/anaconda3/envs/musicmood/lib/python3.8/site-packages/sklearn/svm/_base.py:976: ConvergenceWarning: Liblinear failed to converge, increase the number of iterations.\n",
      "  warnings.warn(\"Liblinear failed to converge, increase \"\n",
      "/Users/ankitsolanki/opt/anaconda3/envs/musicmood/lib/python3.8/site-packages/sklearn/svm/_base.py:976: ConvergenceWarning: Liblinear failed to converge, increase the number of iterations.\n",
      "  warnings.warn(\"Liblinear failed to converge, increase \"\n",
      "/Users/ankitsolanki/opt/anaconda3/envs/musicmood/lib/python3.8/site-packages/sklearn/svm/_base.py:976: ConvergenceWarning: Liblinear failed to converge, increase the number of iterations.\n",
      "  warnings.warn(\"Liblinear failed to converge, increase \"\n",
      "/Users/ankitsolanki/opt/anaconda3/envs/musicmood/lib/python3.8/site-packages/sklearn/svm/_base.py:976: ConvergenceWarning: Liblinear failed to converge, increase the number of iterations.\n",
      "  warnings.warn(\"Liblinear failed to converge, increase \"\n",
      "/Users/ankitsolanki/opt/anaconda3/envs/musicmood/lib/python3.8/site-packages/sklearn/svm/_base.py:976: ConvergenceWarning: Liblinear failed to converge, increase the number of iterations.\n",
      "  warnings.warn(\"Liblinear failed to converge, increase \"\n",
      "/Users/ankitsolanki/opt/anaconda3/envs/musicmood/lib/python3.8/site-packages/sklearn/svm/_base.py:976: ConvergenceWarning: Liblinear failed to converge, increase the number of iterations.\n",
      "  warnings.warn(\"Liblinear failed to converge, increase \"\n",
      "/Users/ankitsolanki/opt/anaconda3/envs/musicmood/lib/python3.8/site-packages/sklearn/svm/_base.py:976: ConvergenceWarning: Liblinear failed to converge, increase the number of iterations.\n",
      "  warnings.warn(\"Liblinear failed to converge, increase \"\n",
      "/Users/ankitsolanki/opt/anaconda3/envs/musicmood/lib/python3.8/site-packages/sklearn/svm/_base.py:976: ConvergenceWarning: Liblinear failed to converge, increase the number of iterations.\n",
      "  warnings.warn(\"Liblinear failed to converge, increase \"\n"
     ]
    },
    {
     "data": {
      "text/plain": [
       "GridSearchCV(estimator=LinearSVC(), param_grid={'C': [0.1, 1, 10, 100, 1000]})"
      ]
     },
     "execution_count": 39,
     "metadata": {},
     "output_type": "execute_result"
    }
   ],
   "source": [
    "from sklearn.model_selection import GridSearchCV \n",
    "  \n",
    "# defining parameter range \n",
    "param_grid = {'C': [0.1, 1, 10, 100, 1000]}  \n",
    "  \n",
    "grid = GridSearchCV(LinearSVC(), param_grid, refit = True,) \n",
    "  \n",
    "# fitting the model for grid search \n",
    "grid.fit(X_train2, y_train2) "
   ]
  },
  {
   "cell_type": "code",
   "execution_count": 40,
   "metadata": {},
   "outputs": [
    {
     "name": "stdout",
     "output_type": "stream",
     "text": [
      "{'C': 10}\n"
     ]
    }
   ],
   "source": [
    "print(grid.best_params_) \n",
    "  "
   ]
  },
  {
   "cell_type": "code",
   "execution_count": 62,
   "metadata": {},
   "outputs": [
    {
     "name": "stdout",
     "output_type": "stream",
     "text": [
      "The TRAIN classification accuracy is: 0.9418746885335024\n",
      "The TEST classification accuracy is: 0.9418604651162791\n"
     ]
    },
    {
     "name": "stderr",
     "output_type": "stream",
     "text": [
      "/Users/ankitsolanki/opt/anaconda3/envs/musicmood/lib/python3.8/site-packages/sklearn/svm/_base.py:976: ConvergenceWarning: Liblinear failed to converge, increase the number of iterations.\n",
      "  warnings.warn(\"Liblinear failed to converge, increase \"\n"
     ]
    }
   ],
   "source": [
    "# refit svc with C = 10\n",
    "SVM_model = LinearSVC(C=10)\n",
    "SVM_model.fit(X_train2, y_train2)\n",
    "\n",
    "print(f\"The TRAIN classification accuracy is: {SVM_model.score(X_train2,y_train2)}\")\n",
    "print(f\"The TEST classification accuracy is: {SVM_model.score(X_test2,y_test2)}\")"
   ]
  },
  {
   "cell_type": "markdown",
   "metadata": {},
   "source": [
    "## Let's do a cross validation for SVC"
   ]
  },
  {
   "cell_type": "code",
   "execution_count": 44,
   "metadata": {},
   "outputs": [
    {
     "name": "stderr",
     "output_type": "stream",
     "text": [
      "/Users/ankitsolanki/opt/anaconda3/envs/musicmood/lib/python3.8/site-packages/sklearn/svm/_base.py:976: ConvergenceWarning: Liblinear failed to converge, increase the number of iterations.\n",
      "  warnings.warn(\"Liblinear failed to converge, increase \"\n",
      "/Users/ankitsolanki/opt/anaconda3/envs/musicmood/lib/python3.8/site-packages/sklearn/svm/_base.py:976: ConvergenceWarning: Liblinear failed to converge, increase the number of iterations.\n",
      "  warnings.warn(\"Liblinear failed to converge, increase \"\n",
      "/Users/ankitsolanki/opt/anaconda3/envs/musicmood/lib/python3.8/site-packages/sklearn/svm/_base.py:976: ConvergenceWarning: Liblinear failed to converge, increase the number of iterations.\n",
      "  warnings.warn(\"Liblinear failed to converge, increase \"\n",
      "/Users/ankitsolanki/opt/anaconda3/envs/musicmood/lib/python3.8/site-packages/sklearn/svm/_base.py:976: ConvergenceWarning: Liblinear failed to converge, increase the number of iterations.\n",
      "  warnings.warn(\"Liblinear failed to converge, increase \"\n"
     ]
    },
    {
     "name": "stdout",
     "output_type": "stream",
     "text": [
      "[0.93657984 0.94405436 0.94496036 0.93883099 0.93905754]\n",
      "cv_scores mean:0.9406966200922525\n"
     ]
    },
    {
     "name": "stderr",
     "output_type": "stream",
     "text": [
      "/Users/ankitsolanki/opt/anaconda3/envs/musicmood/lib/python3.8/site-packages/sklearn/svm/_base.py:976: ConvergenceWarning: Liblinear failed to converge, increase the number of iterations.\n",
      "  warnings.warn(\"Liblinear failed to converge, increase \"\n"
     ]
    }
   ],
   "source": [
    "#instantiate \n",
    "SVM_model = LinearSVC(C=10)\n",
    "## 2. Fit model on 5 folds.\n",
    "# The variable \"scores\" will hold 5 accuracy scores, \n",
    "# each from a different train and validation split\n",
    "cv_scores = cross_val_score(SVM_model, X_train2, y_train2, cv = 5)\n",
    "print(cv_scores)\n",
    "print('cv_scores mean:{}'.format(np.mean(cv_scores)))"
   ]
  },
  {
   "cell_type": "code",
   "execution_count": 95,
   "metadata": {},
   "outputs": [
    {
     "name": "stdout",
     "output_type": "stream",
     "text": [
      "              precision    recall  f1-score   support\n",
      "\n",
      "    cheerful       0.93      0.91      0.92      2500\n",
      "       chill       0.93      0.88      0.90      2259\n",
      "  melancholy       0.97      0.99      0.98      1450\n",
      "   uplifting       0.96      0.99      0.97      3251\n",
      "\n",
      "    accuracy                           0.94      9460\n",
      "   macro avg       0.94      0.94      0.94      9460\n",
      "weighted avg       0.94      0.94      0.94      9460\n",
      "\n"
     ]
    },
    {
     "name": "stderr",
     "output_type": "stream",
     "text": [
      "/Users/ankitsolanki/opt/anaconda3/envs/musicmood/lib/python3.8/site-packages/sklearn/svm/_base.py:976: ConvergenceWarning: Liblinear failed to converge, increase the number of iterations.\n",
      "  warnings.warn(\"Liblinear failed to converge, increase \"\n"
     ]
    }
   ],
   "source": [
    "#Evaluate\n",
    "SVM_model.fit(X_test2,y_test2)\n",
    "# classification report for SVM\n",
    "predictions_svm = SVM_model.predict(X_test2) \n",
    "print(classification_report(y_test2, predictions_svm)) "
   ]
  },
  {
   "cell_type": "markdown",
   "metadata": {},
   "source": [
    "So Far SVM has the best accuracy score."
   ]
  },
  {
   "cell_type": "markdown",
   "metadata": {},
   "source": [
    "Let's try random forests classifier "
   ]
  },
  {
   "cell_type": "markdown",
   "metadata": {},
   "source": [
    "**Random Forests Classifier**"
   ]
  },
  {
   "cell_type": "code",
   "execution_count": 67,
   "metadata": {},
   "outputs": [],
   "source": [
    "# Split the data into train ,test and validation\n",
    "# Taking a chuck for our 20% test set\n",
    "X_remainder3, X_test3, y_remainder3, y_test3 = train_test_split(X, y, test_size = 0.2,\n",
    "                     random_state=42)\n",
    "\n",
    "# Splitting the remainder in two chunks\n",
    "X_train3, X_validation3, y_train3, y_validation3 = train_test_split(X_remainder, y_remainder, test_size = 0.3,\n",
    "                     random_state=42)"
   ]
  },
  {
   "cell_type": "code",
   "execution_count": 68,
   "metadata": {},
   "outputs": [
    {
     "name": "stdout",
     "output_type": "stream",
     "text": [
      "1.0\n",
      "0.9890597748533375\n"
     ]
    }
   ],
   "source": [
    "from sklearn.ensemble import RandomForestClassifier\n",
    "\n",
    "# Instantiate and fit our random forest\n",
    "rf = RandomForestClassifier()\n",
    "\n",
    "rf.fit(X_train3, y_train3)\n",
    "\n",
    "print(rf.score(X_train3, y_train3))\n",
    "print(rf.score(X_test3, y_test3))"
   ]
  },
  {
   "cell_type": "markdown",
   "metadata": {},
   "source": [
    "Cross Validation "
   ]
  },
  {
   "cell_type": "code",
   "execution_count": 49,
   "metadata": {},
   "outputs": [],
   "source": [
    "# Let's try it with Cross-Validation\n",
    "from sklearn.model_selection import cross_val_score\n",
    "\n",
    "cv_scores = []\n",
    "\n",
    "# Try random forests of size 1 to 100\n",
    "for n in range(1, 100):\n",
    "    rf = RandomForestClassifier(n_estimators = n)\n",
    "    # Use cross validation to fit the forest\n",
    "    cv_score = np.mean(cross_val_score(rf, X_train, y_train, cv=5))\n",
    "    cv_scores.append(cv_score)"
   ]
  },
  {
   "cell_type": "code",
   "execution_count": 51,
   "metadata": {},
   "outputs": [
    {
     "name": "stdout",
     "output_type": "stream",
     "text": [
      "cv_scores mean:0.9651440173243978\n"
     ]
    }
   ],
   "source": [
    "\n",
    "print('cv_scores mean:{}'.format(np.mean(cv_scores)))"
   ]
  },
  {
   "cell_type": "markdown",
   "metadata": {},
   "source": [
    "These scores are very impressive."
   ]
  },
  {
   "cell_type": "code",
   "execution_count": 93,
   "metadata": {},
   "outputs": [
    {
     "name": "stdout",
     "output_type": "stream",
     "text": [
      "              precision    recall  f1-score   support\n",
      "\n",
      "           0       0.99      0.99      0.99      1663\n",
      "           1       0.99      0.99      0.99      2169\n",
      "           2       0.98      0.99      0.99      1500\n",
      "           3       0.99      0.99      0.99       975\n",
      "\n",
      "    accuracy                           0.99      6307\n",
      "   macro avg       0.99      0.99      0.99      6307\n",
      "weighted avg       0.99      0.99      0.99      6307\n",
      "\n"
     ]
    }
   ],
   "source": [
    "#Evaluate\n",
    "rf.fit(X_test3,y_test3)\n",
    "# classification report for SVM\n",
    "predictions_svm = rf.predict(X_test3) \n",
    "print(classification_report(y_test3, predictions_rf)) "
   ]
  },
  {
   "cell_type": "markdown",
   "metadata": {},
   "source": [
    "## Confusion Matrix Evaluation"
   ]
  },
  {
   "cell_type": "code",
   "execution_count": 91,
   "metadata": {},
   "outputs": [
    {
     "data": {
      "text/plain": [
       "<sklearn.metrics._plot.confusion_matrix.ConfusionMatrixDisplay at 0x7ffc4407e790>"
      ]
     },
     "execution_count": 91,
     "metadata": {},
     "output_type": "execute_result"
    },
    {
     "data": {
      "image/png": "[encoded data removed]",
      "text/plain": [
       "<Figure size 432x288 with 2 Axes>"
      ]
     },
     "metadata": {
      "needs_background": "light"
     },
     "output_type": "display_data"
    }
   ],
   "source": [
    "# confusion matrix KNN\n",
    "from sklearn.metrics import ConfusionMatrixDisplay\n",
    "conf_matrix = confusion_matrix(y_test, predictions )\n",
    "ConfusionMatrixDisplay(conf_matrix, display_labels=y_df).plot()"
   ]
  },
  {
   "cell_type": "code",
   "execution_count": 97,
   "metadata": {},
   "outputs": [
    {
     "data": {
      "text/plain": [
       "<sklearn.metrics._plot.confusion_matrix.ConfusionMatrixDisplay at 0x7ffc43001400>"
      ]
     },
     "execution_count": 97,
     "metadata": {},
     "output_type": "execute_result"
    },
    {
     "data": {
      "image/png": "[encoded data removed]",
      "text/plain": [
       "<Figure size 432x288 with 2 Axes>"
      ]
     },
     "metadata": {
      "needs_background": "light"
     },
     "output_type": "display_data"
    }
   ],
   "source": [
    "# confusion matrix SVM\n",
    "from sklearn.metrics import ConfusionMatrixDisplay\n",
    "conf_matrix = confusion_matrix(y_test2, predictions_svm )\n",
    "ConfusionMatrixDisplay(conf_matrix, display_labels=y_df).plot()"
   ]
  },
  {
   "cell_type": "code",
   "execution_count": 90,
   "metadata": {},
   "outputs": [
    {
     "data": {
      "text/plain": [
       "<sklearn.metrics._plot.confusion_matrix.ConfusionMatrixDisplay at 0x7ffc42fadfd0>"
      ]
     },
     "execution_count": 90,
     "metadata": {},
     "output_type": "execute_result"
    },
    {
     "data": {
      "image/png": "[encoded data removed]",
      "text/plain": [
       "<Figure size 432x288 with 2 Axes>"
      ]
     },
     "metadata": {
      "needs_background": "light"
     },
     "output_type": "display_data"
    }
   ],
   "source": [
    "# confusion matrix RF\n",
    "from sklearn.metrics import ConfusionMatrixDisplay\n",
    "conf_matrix = confusion_matrix(y_test3, predictions_rf )\n",
    "ConfusionMatrixDisplay(conf_matrix, display_labels=y_df).plot()"
   ]
  },
  {
   "cell_type": "markdown",
   "metadata": {},
   "source": [
    "We can see from the confsuion matrixes of all three models, that random forests have the least amount of errors among all. Although SVM is still very close but random forests classifies the moods the best. Also looking at the F1 scores of all models, it proves that random forests will work best for this multi class classification problem."
   ]
  },
  {
   "cell_type": "markdown",
   "metadata": {},
   "source": [
    "**Production:**\n",
    "\n",
    "- Get song features for each song in a spotify playlist\n",
    "- get audio attributes\n",
    "- scale audio attributes\n",
    "- Predict song moods\n",
    "- Use count of moods to visualize in D3/Flask"
   ]
  },
  {
   "cell_type": "code",
   "execution_count": null,
   "metadata": {},
   "outputs": [],
   "source": []
  }
 ],
 "metadata": {
  "kernelspec": {
   "display_name": "Python 3",
   "language": "python",
   "name": "python3"
  },
  "language_info": {
   "codemirror_mode": {
    "name": "ipython",
    "version": 3
   },
   "file_extension": ".py",
   "mimetype": "text/x-python",
   "name": "python",
   "nbconvert_exporter": "python",
   "pygments_lexer": "ipython3",
   "version": "3.8.3"
  }
 },
 "nbformat": 4,
 "nbformat_minor": 4
}
